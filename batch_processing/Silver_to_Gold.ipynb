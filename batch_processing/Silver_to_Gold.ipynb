{
 "cells": [
  {
   "cell_type": "code",
   "execution_count": null,
   "metadata": {
    "application/vnd.databricks.v1+cell": {
     "cellMetadata": {},
     "inputWidgets": {},
     "nuid": "54aec790-4f8b-4072-bd3c-25053b982d7d",
     "showTitle": false,
     "title": ""
    }
   },
   "outputs": [],
   "source": [
    "-- calculate top 5 customers with their revenue\n",
    "\n",
    "CREATE OR REFRESH MATERIALIZED VIEW top_customers (\n",
    "    customer_unique_id string,\n",
    "    customer_city string,\n",
    "    customer_state string,\n",
    "    total_Revenue double,\n",
    "CONSTRAINT valid_revenue EXPECT(total_Revenue is not null and total_Revenue > 0) ON VIOLATION DROP ROW\n",
    ")\n",
    "COMMENT \"Aggregated data to find out top 5 customers based on thier revenue\"\n",
    "TBLPROPERTIES (\"quality\" = \"gold\")\n",
    "as\n",
    "with calc_rev as \n",
    "(\n",
    "select  cust.customer_unique_id,customer_city, customer_state,\n",
    "        sum(price+freight_value) as total_Revenue\n",
    "from live.DimCustomers as cust\n",
    "inner join live.FactOrders as ord\n",
    "    on cust.customer_id = ord.customer_id\n",
    "inner join live.FactOrderItems ord_itm\n",
    "    on ord_itm.order_id = ord.order_id\n",
    "group by cust.customer_unique_id,customer_city, customer_state\n",
    "),\n",
    "rank_cust as (\n",
    "select *,dense_rank() over(partition by customer_unique_id order by total_Revenue desc ) as rn \n",
    "from calc_rev \n",
    ")\n",
    "select  customer_unique_id,\n",
    "        customer_city,\n",
    "        customer_state,\n",
    "        total_Revenue\n",
    "from rank_cust where rn <6"
   ]
  },
  {
   "cell_type": "code",
   "execution_count": null,
   "metadata": {},
   "outputs": [],
   "source": [
    "-- calculate order payment status\n",
    "\n",
    "CREATE OR REFRESH MATERIALIZED VIEW order_installment_status(\n",
    "    order_id string,\n",
    "    order_price double,\n",
    "    paid_value double,\n",
    "    balance_to_be_paid double,\n",
    "    CONSTRAINT valid_price EXPECT (order_price is not null order_price > 0) ON VIOLATION DROP ROW\n",
    ")\n",
    "COMMENT = \"To calculate installments status of the orders\"\n",
    "TBLPROPERTIES (\"quality\" = \"gold\")\n",
    "AS \n",
    "select  ord.order_id, \n",
    "        sum(price + freight_value) as order_price,\n",
    "        sum(payment_value) as paid_value,\n",
    "        sum(price + freight_value) - sum(payment_value) as balance_to_be_paid\n",
    "FROM live.DimOrders ord \n",
    "inner join live.FactPayments pmts\n",
    "    on ord.order_id = pmts.order_id\n",
    "group by ord.order_id"
   ]
  },
  {
   "cell_type": "code",
   "execution_count": null,
   "metadata": {},
   "outputs": [],
   "source": [
    "-- top 10 best selling products\n",
    "CREATE OR REFRESH MATERIALIZED VIEW top_10_best_selling_products (\n",
    "    product_id string,\n",
    "    product_category_name string,\n",
    "    product_value double,\n",
    "    CONSTRAINT valid_prd_cat EXPECT (product_category_name is not null) ON VIOLATION DROP ROW,\n",
    "    CONSTRAINT valid_prd_value EXPECT (product_value is not null and product_value > 0)\n",
    ")\n",
    "COMMENT = \"finding top 10 best selling products based on product value\"\n",
    "TBLPROPERTIES (\"quality\" = \"gold\")\n",
    "AS \n",
    "WITH calc_prod_val as \n",
    "(\n",
    "SELECT  product_id,\n",
    "        count(order_item_id) as no_of_times_purchased,\n",
    "        sum(distinct (price+freight_value)) as product_value\n",
    "FROM live.FactOrderItems\n",
    "GROUP BY product_id\n",
    ")\n",
    ", rank_prd as \n",
    "(\n",
    "    SELECT  *,\n",
    "            dense_rank() over(order by no_of_times_purchased desc) as rn \n",
    "    FROM calc_prod_val\n",
    ")\n",
    "SELECT  c.product_id,\n",
    "        p.product_category_name,\n",
    "        c.product_value\n",
    "FROM rank_prd c \n",
    "join live.DimProducts p \n",
    "    on c.product_id = c.product_id\n",
    "WHERE rn <= 10"
   ]
  },
  {
   "cell_type": "code",
   "execution_count": null,
   "metadata": {},
   "outputs": [],
   "source": [
    "-- display the no of orders for each order status\n",
    "\n",
    "CREATE OR REFRESH MATERIALIZED VIEW no_of_order_per_status ()\n",
    "(\n",
    "    order_status string,\n",
    "    no_of_orders long,\n",
    "    CONSTRAINT valid_no_orders EXPECT (no_of_orders is not null and no_of_orders > 0)\n",
    ")\n",
    "COMMENT = \"To calculate the no of orders for each order status\"\n",
    "TBLPROPERTIES (\"quality\" = \"gold\")\n",
    "AS \n",
    "SELECT  order_status,\n",
    "        count(order_id)\n",
    "FROM live.FactOrders\n",
    "GROUP BY order_status\n"
   ]
  }
 ],
 "metadata": {
  "application/vnd.databricks.v1+notebook": {
   "dashboards": [],
   "environmentMetadata": null,
   "language": "python",
   "notebookMetadata": {
    "pythonIndentUnit": 4
   },
   "notebookName": "Bronze_to_silver",
   "widgets": {}
  },
  "language_info": {
   "name": "python"
  }
 },
 "nbformat": 4,
 "nbformat_minor": 0
}
