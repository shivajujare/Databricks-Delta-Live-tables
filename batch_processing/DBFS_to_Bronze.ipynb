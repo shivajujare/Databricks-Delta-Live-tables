{
 "cells": [
  {
   "cell_type": "code",
   "execution_count": 0,
   "metadata": {
    "application/vnd.databricks.v1+cell": {
     "cellMetadata": {},
     "inputWidgets": {},
     "nuid": "a9b9e023-eb63-410f-bbfb-d7957e3ce307",
     "showTitle": false,
     "title": ""
    }
   },
   "outputs": [],
   "source": [
    "import dlt"
   ]
  },
  {
   "cell_type": "code",
   "execution_count": 0,
   "metadata": {
    "application/vnd.databricks.v1+cell": {
     "cellMetadata": {},
     "inputWidgets": {},
     "nuid": "482b2816-2e41-4598-9a53-0ac9bcc21831",
     "showTitle": false,
     "title": ""
    }
   },
   "outputs": [],
   "source": [
    "@dlt.table(\n",
    "    name = 'customer_staging'\n",
    ")\n",
    "def get_customer():\n",
    "    return spark.read \\\n",
    "            .format(\"csv\") \\\n",
    "            .option(\"inferSchema\",True) \\\n",
    "            .option(\"header\",True) \\\n",
    "            .option(\"path\",\"dbfs:/FileStore/input/olist_customers_dataset.csv\") \\\n",
    "            .load()"
   ]
  },
  {
   "cell_type": "code",
   "execution_count": 0,
   "metadata": {
    "application/vnd.databricks.v1+cell": {
     "cellMetadata": {},
     "inputWidgets": {},
     "nuid": "78d1d8a1-2dc3-4367-8d11-f670fca05bd3",
     "showTitle": false,
     "title": ""
    }
   },
   "outputs": [],
   "source": [
    "@dlt.table(\n",
    "    name='products_staging'\n",
    ")\n",
    "def get_products():\n",
    "    return spark.read \\\n",
    "            .format(\"csv\") \\\n",
    "            .option(\"inferSchema\",True) \\\n",
    "            .option(\"header\",True) \\\n",
    "            .option(\"path\",\"dbfs:/FileStore/input/olist_products_dataset.csv\") \\\n",
    "            .load()"
   ]
  },
  {
   "cell_type": "code",
   "execution_count": 0,
   "metadata": {
    "application/vnd.databricks.v1+cell": {
     "cellMetadata": {},
     "inputWidgets": {},
     "nuid": "61864287-9ed1-4c61-a5b7-204c9e1980ff",
     "showTitle": false,
     "title": ""
    }
   },
   "outputs": [],
   "source": [
    "@dlt.table(\n",
    "    name='order_items_staging'\n",
    ")\n",
    "def get_products():\n",
    "    return spark.read \\\n",
    "            .format(\"csv\") \\\n",
    "            .option(\"inferSchema\",True) \\\n",
    "            .option(\"header\",True) \\\n",
    "            .option(\"path\",\"dbfs:/FileStore/input/olist_order_items_dataset.csv\") \\\n",
    "            .load()"
   ]
  },
  {
   "cell_type": "code",
   "execution_count": 0,
   "metadata": {
    "application/vnd.databricks.v1+cell": {
     "cellMetadata": {},
     "inputWidgets": {},
     "nuid": "6ccdb918-6e82-43b9-9972-7fd10e02dbb7",
     "showTitle": false,
     "title": ""
    }
   },
   "outputs": [],
   "source": [
    "@dlt.table(\n",
    "    name='order_staging'\n",
    ")\n",
    "def get_products():\n",
    "    return spark.read \\\n",
    "            .format(\"csv\") \\\n",
    "            .option(\"inferSchema\",True) \\\n",
    "            .option(\"header\",True) \\\n",
    "            .option(\"path\",\"dbfs:/FileStore/input/olist_orders_dataset.csv\") \\\n",
    "            .load()"
   ]
  },
  {
   "cell_type": "code",
   "execution_count": 0,
   "metadata": {
    "application/vnd.databricks.v1+cell": {
     "cellMetadata": {},
     "inputWidgets": {},
     "nuid": "0fbc126b-bf53-4b39-af4f-7ae32f0b8242",
     "showTitle": false,
     "title": ""
    }
   },
   "outputs": [],
   "source": [
    "@dlt.table(\n",
    "    name='payments_staging'\n",
    ")\n",
    "def get_products():\n",
    "    return spark.read \\\n",
    "            .format(\"csv\") \\\n",
    "            .option(\"inferSchema\",True) \\\n",
    "            .option(\"header\",True) \\\n",
    "            .option(\"path\",\"dbfs:/FileStore/input/olist_order_payments_dataset.csv\") \\\n",
    "            .load()"
   ]
  },
  {
   "cell_type": "code",
   "execution_count": 0,
   "metadata": {
    "application/vnd.databricks.v1+cell": {
     "cellMetadata": {},
     "inputWidgets": {},
     "nuid": "1fa9d506-7618-42a9-b7d2-db0029e59de0",
     "showTitle": false,
     "title": ""
    }
   },
   "outputs": [],
   "source": [
    "@dlt.table(\n",
    "    name='sellers_staging'\n",
    ")\n",
    "def get_products():\n",
    "    return spark.read \\\n",
    "            .format(\"csv\") \\\n",
    "            .option(\"inferSchema\",True) \\\n",
    "            .option(\"header\",True) \\\n",
    "            .option(\"path\",\"dbfs:/FileStore/input/olist_sellers_dataset.csv\") \\\n",
    "            .load()"
   ]
  },
  {
   "cell_type": "code",
   "execution_count": 0,
   "metadata": {
    "application/vnd.databricks.v1+cell": {
     "cellMetadata": {},
     "inputWidgets": {},
     "nuid": "3ae19ead-81d0-40ec-90d8-0a9f75af009f",
     "showTitle": false,
     "title": ""
    }
   },
   "outputs": [],
   "source": [
    "@dlt.table(\n",
    "    name='product_cat_map'\n",
    ")\n",
    "def get_products():\n",
    "    return spark.read \\\n",
    "            .format(\"csv\") \\\n",
    "            .option(\"inferSchema\",True) \\\n",
    "            .option(\"header\",True) \\\n",
    "            .option(\"path\",\"dbfs:/FileStore/input/product_category_name_translation.csv\") \\\n",
    "            .load()"
   ]
  }
 ],
 "metadata": {
  "application/vnd.databricks.v1+notebook": {
   "dashboards": [],
   "environmentMetadata": null,
   "language": "python",
   "notebookMetadata": {
    "pythonIndentUnit": 4
   },
   "notebookName": "DBFS_to_Bronze",
   "widgets": {}
  }
 },
 "nbformat": 4,
 "nbformat_minor": 0
}
