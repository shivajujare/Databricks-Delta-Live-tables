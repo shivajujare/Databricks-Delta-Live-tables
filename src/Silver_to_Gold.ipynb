{
 "cells": [
  {
   "cell_type": "code",
   "execution_count": null,
   "metadata": {
    "application/vnd.databricks.v1+cell": {
     "cellMetadata": {},
     "inputWidgets": {},
     "nuid": "54aec790-4f8b-4072-bd3c-25053b982d7d",
     "showTitle": false,
     "title": ""
    }
   },
   "outputs": [],
   "source": [
    "# calculate top 5 customers with their revenue\n",
    "\n",
    "CREATE OR REFRESH MATERIALIZED VIEW (\n",
    "    customer_unique_id string,\n",
    "    customer_city string,\n",
    "    customer_state string,\n",
    "    total_Revenue float,\n",
    "    CONSTRAINT valid_revenue EXPECT(total_Revenue is not null and total_Revenue > 0) ON VIOLATION DROP ROW\n",
    ")\n",
    "COMMENT \"Aggregated data to find out top 5 customers based on thier revenue\"\n",
    "TBLPROPERTIES (\"quality\" = \"gold\")\n",
    "with calc_rev as (\n",
    "select  cust.customer_unique_id,customer_city, customer_state,\n",
    "        sum(price+freight_value) as total_Revenue\n",
    "from live.DimCustomers as cust\n",
    "inner join live.FactOrders as ord\n",
    "    on cust.customer_id = ord.customer_id\n",
    "inner join live.FactOrderItems ord_itm\n",
    "    on ord_itm.order_id = ord.order_id\n",
    "group by cust.customer_unique_id,customer_city, customer_state\n",
    "),\n",
    "rank_cust as (\n",
    "select *,dense_rank() over(partition by customer_unique_id order by total_Revenue desc ) as rn \n",
    "from calc_rev \n",
    ")\n",
    "select * from rank_cust where rn <6"
   ]
  },
  {
   "cell_type": "code",
   "execution_count": null,
   "metadata": {},
   "outputs": [],
   "source": []
  }
 ],
 "metadata": {
  "application/vnd.databricks.v1+notebook": {
   "dashboards": [],
   "environmentMetadata": null,
   "language": "python",
   "notebookMetadata": {
    "pythonIndentUnit": 4
   },
   "notebookName": "Bronze_to_silver",
   "widgets": {}
  },
  "language_info": {
   "name": "python"
  }
 },
 "nbformat": 4,
 "nbformat_minor": 0
}
