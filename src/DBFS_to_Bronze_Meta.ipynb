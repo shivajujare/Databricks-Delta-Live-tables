{
 "cells": [
  {
   "cell_type": "code",
   "execution_count": 0,
   "metadata": {
    "application/vnd.databricks.v1+cell": {
     "cellMetadata": {},
     "inputWidgets": {},
     "nuid": "a9b9e023-eb63-410f-bbfb-d7957e3ce307",
     "showTitle": false,
     "title": ""
    }
   },
   "outputs": [],
   "source": [
    "import dlt"
   ]
  },
  {
   "cell_type": "code",
   "execution_count": 0,
   "metadata": {
    "application/vnd.databricks.v1+cell": {
     "cellMetadata": {},
     "inputWidgets": {},
     "nuid": "7c3900ff-ea43-4100-8225-2770fd803d48",
     "showTitle": false,
     "title": ""
    }
   },
   "outputs": [],
   "source": [
    "table_map = {\n",
    "    'olist_customers_dataset.csv':'customers_staging',\n",
    "    'olist_products_dataset.csv':'products_staging',\n",
    "    'olist_order_items_dataset.csv':'order_items_staging',\n",
    "    'olist_orders_dataset.csv':'orders_staging',\n",
    "    'olist_order_payments_dataset.csv':'payments_staging',\n",
    "    'olist_sellers_dataset.csv':'sellers_staging',\n",
    "    'product_category_name_translation.csv':'product_cat_map'\n",
    "}\n"
   ]
  },
  {
   "cell_type": "code",
   "execution_count": 0,
   "metadata": {
    "application/vnd.databricks.v1+cell": {
     "cellMetadata": {},
     "inputWidgets": {},
     "nuid": "c94cf4eb-5a18-4c1f-90fb-be0705485fdb",
     "showTitle": false,
     "title": ""
    }
   },
   "outputs": [],
   "source": [
    "def create_table(v_file):\n",
    "    @dlt.table(name = table_map[v_file])\n",
    "    def create_dlt_table():\n",
    "        return spark.read \\\n",
    "            .format(\"csv\") \\\n",
    "            .option(\"inferSchema\",True) \\\n",
    "            .option(\"header\",True) \\\n",
    "            .option(\"path\",'/FileStore/input/'+v_file) \\\n",
    "            .load()"
   ]
  },
  {
   "cell_type": "code",
   "execution_count": 0,
   "metadata": {
    "application/vnd.databricks.v1+cell": {
     "cellMetadata": {},
     "inputWidgets": {},
     "nuid": "b335b40a-2987-4624-9b1e-eebd50496d74",
     "showTitle": false,
     "title": ""
    }
   },
   "outputs": [],
   "source": [
    "file_names = os.listdir('/dbfs/FileStore/input')\n",
    "\n",
    "for file in file_names:\n",
    "    create_table(file)"
   ]
  }
 ],
 "metadata": {
  "application/vnd.databricks.v1+notebook": {
   "dashboards": [],
   "environmentMetadata": null,
   "language": "python",
   "notebookMetadata": {
    "pythonIndentUnit": 4
   },
   "notebookName": "DBFS_to_Bronze_Meta",
   "widgets": {}
  }
 },
 "nbformat": 4,
 "nbformat_minor": 0
}
