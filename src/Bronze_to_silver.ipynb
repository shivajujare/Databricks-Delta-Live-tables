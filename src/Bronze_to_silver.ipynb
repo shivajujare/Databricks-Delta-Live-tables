{
 "cells": [
  {
   "cell_type": "code",
   "execution_count": null,
   "metadata": {
    "application/vnd.databricks.v1+cell": {
     "cellMetadata": {},
     "inputWidgets": {},
     "nuid": "2eedab27-8f82-4973-89c6-02156e0ee7db",
     "showTitle": false,
     "title": ""
    }
   },
   "outputs": [],
   "source": [
    "import dlt"
   ]
  },
  {
   "cell_type": "code",
   "execution_count": null,
   "metadata": {
    "application/vnd.databricks.v1+cell": {
     "cellMetadata": {},
     "inputWidgets": {},
     "nuid": "54aec790-4f8b-4072-bd3c-25053b982d7d",
     "showTitle": false,
     "title": ""
    }
   },
   "outputs": [],
   "source": [
    "#apllying validation checks on Customer with expectations\n",
    "\n",
    "@dlt.table(\n",
    "    name = 'DimCustomers'\n",
    ")\n",
    "@dlt.expect_or_drop(\"drop invalid customerid\", \"customer_id is not null\")\n",
    "@dlt.expect_or_drop(\"drop invalid customer unique id\", \"customer_unique_id is not null\")\n",
    "@dlt.expect_or_drop(\"drop invalid customer_zip_code_prefix\", \"customer_zip_code_prefix is not null\")\n",
    "@dlt.expect_or_drop(\"drop invalid customer_city\", \"customer_city is not null\")\n",
    "@dlt.expect_or_drop(\"drop invalid customer_state\", \"customer_state is not null\")\n",
    "def get_staging_customers():\n",
    "    return dlt.read(\"customer_staging\")\n",
    "\n",
    "                "
   ]
  },
  {
   "cell_type": "code",
   "execution_count": null,
   "metadata": {},
   "outputs": [],
   "source": [
    "#apllying validation checks on Order Items with expectations\n",
    "\n",
    "@dlt.table(\n",
    "    name = 'FactOrderItems'\n",
    ")\n",
    "@dlt.expect_or_drop(\"drop invalid order id\", \"order_id is not null\")\n",
    "@dlt.expect_or_drop(\"drop invalid product id\", \"product_id is not null\")\n",
    "@dlt.expect_or_drop(\"drop invalid shipping_limit_date\", \"shipping_limit_date is not null\")\n",
    "@dlt.expect_or_drop(\"drop invalid price\", \"price is not null AND price > 0\")\n",
    "@dlt.expect_or_drop(\"drop invalid freight_value\", \"freight_value is not null AND freight_value > 0\")\n",
    "def get_staging_order_items():\n",
    "    return dlt.read(\"order_items_staging\")\n",
    "\n",
    "                "
   ]
  }
 ],
 "metadata": {
  "application/vnd.databricks.v1+notebook": {
   "dashboards": [],
   "environmentMetadata": null,
   "language": "python",
   "notebookMetadata": {
    "pythonIndentUnit": 4
   },
   "notebookName": "Bronze_to_silver",
   "widgets": {}
  },
  "language_info": {
   "name": "python"
  }
 },
 "nbformat": 4,
 "nbformat_minor": 0
}
