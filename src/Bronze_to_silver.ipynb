{
 "cells": [
  {
   "cell_type": "code",
   "execution_count": null,
   "metadata": {
    "application/vnd.databricks.v1+cell": {
     "cellMetadata": {},
     "inputWidgets": {},
     "nuid": "2eedab27-8f82-4973-89c6-02156e0ee7db",
     "showTitle": false,
     "title": ""
    }
   },
   "outputs": [],
   "source": [
    "import dlt"
   ]
  },
  {
   "cell_type": "code",
   "execution_count": null,
   "metadata": {
    "application/vnd.databricks.v1+cell": {
     "cellMetadata": {},
     "inputWidgets": {},
     "nuid": "54aec790-4f8b-4072-bd3c-25053b982d7d",
     "showTitle": false,
     "title": ""
    }
   },
   "outputs": [],
   "source": [
    "#apllying validation checks on Customer with expectations\n",
    "\n",
    "@dlt.table(\n",
    "    name = 'DimCustomers'\n",
    ")\n",
    "@dlt.expect_or_drop(\"drop invalid customerid\", \"customer_id is not null\")\n",
    "@dlt.expect_or_drop(\"drop invalid customer unique id\", \"customer_unique_id is not null\")\n",
    "def get_staging_customers():\n",
    "    return dlt.read(\"customer_staging\")\n",
    "\n",
    "                "
   ]
  },
  {
   "cell_type": "code",
   "execution_count": null,
   "metadata": {},
   "outputs": [],
   "source": [
    "#apllying validation checks on Order Items with expectations\n",
    "\n",
    "@dlt.table(\n",
    "    name = 'FactOrderItems'\n",
    ")\n",
    "@dlt.expect_or_drop(\"drop invalid order id\", \"order_id is not null\")\n",
    "@dlt.expect_or_drop(\"drop invalid product id\", \"product_id is not null\")\n",
    "@dlt.expect_or_drop(\"drop invalid shipping_limit_date\", \"shipping_limit_date is not null\")\n",
    "def get_staging_order_items():\n",
    "    return dlt.read(\"order_items_staging\")                "
   ]
  },
  {
   "cell_type": "code",
   "execution_count": null,
   "metadata": {},
   "outputs": [],
   "source": [
    "#apllying validation checks on Orders with expectations\n",
    "\n",
    "@dlt.table(\n",
    "    name = 'FactOrders'\n",
    ")\n",
    "@dlt.expect_or_drop(\"drop invalid order_id\", \"order_id is not null\")\n",
    "@dlt.expect_or_drop(\"drop invalid  customer_id\", \"customer_id is not null\")\n",
    "def get_staging_orders():\n",
    "    return dlt.read(\"order_staging\")\n",
    "                "
   ]
  },
  {
   "cell_type": "code",
   "execution_count": null,
   "metadata": {},
   "outputs": [],
   "source": [
    "#apllying validation checks on Payments with expectations\n",
    "\n",
    "@dlt.table(\n",
    "    name = 'FactPayments'\n",
    ")\n",
    "@dlt.expect_or_drop(\"drop invalid order_id\", \"order_id is not null\")\n",
    "@dlt.expect_or_drop(\"drop invalid  payment_sequential\", \"payment_sequential is not null and payment_sequential > 0\")\n",
    "@dlt.expect_or_drop(\"drop invalid payment_type\", \"payment_type is not null\")\n",
    "def get_staging_payments():\n",
    "    return dlt.read(\"payments_staging\")\n",
    "                "
   ]
  },
  {
   "cell_type": "code",
   "execution_count": null,
   "metadata": {},
   "outputs": [],
   "source": [
    "# apllying validation checks on Products with expectations\n",
    "\n",
    "@dlt.table(\n",
    "    name = 'DimProducts'\n",
    ")\n",
    "@dlt.expect_or_drop(\"drop invalid product_id\", \"product_id is not null\")\n",
    "@dlt.expect_or_drop(\"drop invalid  product_category_name\", \"product_category_name is not null\")\n",
    "def get_staging_products():\n",
    "    prod_staging = dlt.read(\"products_staging\")\n",
    "    prod_cat_map = dlt.read(\"product_cat_map\").withColumnRenamed(\"product_category_name\",\"product_category_name_cat\")\n",
    "    join_df = prod_staging.join(prod_cat_map, prod_staging.product_category_name == prod_cat_map.product_category_name_cat,\"left_outer\")\n",
    "    return join_df"
   ]
  },
  {
   "cell_type": "code",
   "execution_count": null,
   "metadata": {},
   "outputs": [],
   "source": [
    "#apllying validation checks on Sellers with expectations\n",
    "\n",
    "@dlt.table(\n",
    "    name = 'DimSeller'\n",
    ")\n",
    "@dlt.expect_or_drop(\"drop invalid seller_id\", \"seller_id is not null\")\n",
    "def get_staging_seller():\n",
    "    return dlt.read(\"sellers_staging\")\n",
    "                "
   ]
  }
 ],
 "metadata": {
  "application/vnd.databricks.v1+notebook": {
   "dashboards": [],
   "environmentMetadata": null,
   "language": "python",
   "notebookMetadata": {
    "pythonIndentUnit": 4
   },
   "notebookName": "Bronze_to_silver",
   "widgets": {}
  },
  "language_info": {
   "name": "python"
  }
 },
 "nbformat": 4,
 "nbformat_minor": 0
}
